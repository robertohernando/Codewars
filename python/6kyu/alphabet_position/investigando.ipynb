{
 "cells": [
  {
   "cell_type": "markdown",
   "id": "cf0e7a88",
   "metadata": {},
   "source": [
    "## Investigando"
   ]
  },
  {
   "cell_type": "markdown",
   "id": "f142a354",
   "metadata": {},
   "source": [
    "### Probando con listas"
   ]
  },
  {
   "cell_type": "code",
   "execution_count": 49,
   "id": "5dd3f51f",
   "metadata": {},
   "outputs": [],
   "source": [
    "texto = 'abC d.;ñ'"
   ]
  },
  {
   "cell_type": "code",
   "execution_count": 50,
   "id": "fb30d2ab",
   "metadata": {},
   "outputs": [],
   "source": [
    "solucion = ''"
   ]
  },
  {
   "cell_type": "code",
   "execution_count": 51,
   "id": "18b6e1b6",
   "metadata": {},
   "outputs": [
    {
     "name": "stdout",
     "output_type": "stream",
     "text": [
      "a\n",
      "b\n",
      "C\n",
      " \n",
      "d\n",
      ".\n",
      ";\n",
      "ñ\n"
     ]
    }
   ],
   "source": [
    "for caracter in texto:\n",
    "    print(caracter)"
   ]
  },
  {
   "cell_type": "code",
   "execution_count": 52,
   "id": "9550993e",
   "metadata": {},
   "outputs": [],
   "source": [
    "letras = 'abcdefghijklmnopqrstuvwxyz'"
   ]
  },
  {
   "cell_type": "code",
   "execution_count": 53,
   "id": "11c9c100",
   "metadata": {},
   "outputs": [
    {
     "name": "stdout",
     "output_type": "stream",
     "text": [
      "a 1\n",
      "b 2\n",
      "c 3\n",
      "d 4\n"
     ]
    }
   ],
   "source": [
    "for caracter in texto:\n",
    "    caracter_en_minusculas = caracter.lower()\n",
    "    if caracter_en_minusculas in letras:\n",
    "        print(caracter_en_minusculas, letras.index(caracter_en_minusculas) + 1)"
   ]
  },
  {
   "cell_type": "code",
   "execution_count": 54,
   "id": "d407e8c5",
   "metadata": {},
   "outputs": [],
   "source": [
    "for caracter in texto:\n",
    "    caracter_en_minusculas = caracter.lower()\n",
    "    if caracter_en_minusculas in letras:\n",
    "        posicion = letras.index(caracter_en_minusculas) + 1\n",
    "        solucion = solucion + str(posicion) + ' '"
   ]
  },
  {
   "cell_type": "code",
   "execution_count": 55,
   "id": "c7eacbb5",
   "metadata": {},
   "outputs": [
    {
     "data": {
      "text/plain": [
       "'1 2 3 4 '"
      ]
     },
     "execution_count": 55,
     "metadata": {},
     "output_type": "execute_result"
    }
   ],
   "source": [
    "solucion"
   ]
  },
  {
   "cell_type": "code",
   "execution_count": 56,
   "id": "1fb36513",
   "metadata": {},
   "outputs": [
    {
     "data": {
      "text/plain": [
       "'1 2 3 4'"
      ]
     },
     "execution_count": 56,
     "metadata": {},
     "output_type": "execute_result"
    }
   ],
   "source": [
    "solucion[:-1]"
   ]
  },
  {
   "cell_type": "code",
   "execution_count": 57,
   "id": "8c1b4341",
   "metadata": {},
   "outputs": [
    {
     "data": {
      "text/plain": [
       "str"
      ]
     },
     "execution_count": 57,
     "metadata": {},
     "output_type": "execute_result"
    }
   ],
   "source": [
    "type(solucion[:-1])"
   ]
  },
  {
   "cell_type": "code",
   "execution_count": null,
   "id": "e3807723",
   "metadata": {},
   "outputs": [],
   "source": []
  }
 ],
 "metadata": {
  "kernelspec": {
   "display_name": "Python 3 (ipykernel)",
   "language": "python",
   "name": "python3"
  },
  "language_info": {
   "codemirror_mode": {
    "name": "ipython",
    "version": 3
   },
   "file_extension": ".py",
   "mimetype": "text/x-python",
   "name": "python",
   "nbconvert_exporter": "python",
   "pygments_lexer": "ipython3",
   "version": "3.10.8"
  }
 },
 "nbformat": 4,
 "nbformat_minor": 5
}
